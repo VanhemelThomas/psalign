{
 "cells": [
  {
   "cell_type": "code",
   "execution_count": null,
   "metadata": {},
   "outputs": [],
   "source": [
    "import numpy as np\n",
    "import msiwarp as mx\n",
    "import pandas as pd\n",
    "import multiprocessing as mp\n",
    "import numba as nb\n",
    "\n",
    "from pyimzml.ImzMLParser import ImzMLParser\n",
    "from scipy.interpolate import make_interp_spline\n",
    "from tqdm import tqdm\n",
    "from msiwarp.util.warp import to_mx_peaks, to_height, generate_mean_spectrum, to_mz, dispersion_triplets\n",
    "\n",
    "from src.psalign.mass_dispersion import get_mass_dispersion\n",
    "\n",
    "# setup input and output filepaths\n",
    "# Download file from https://www.omicsdi.org/dataset/metabolights_dataset/MTBLS289\n",
    "fdir = '<path_to_data>'\n",
    "sample = 'A52 CT S3-centroid.imzML'\n",
    "imzml_path = fdir + sample\n",
    "fpath_triplets_raw = fdir + 'triplets_raw.dat'\n",
    "fpath_triplets_warped = fdir + 'triplets_warped.dat'\n",
    "fpath_dispersion_csv = fdir + 'results/dispersion_100.csv'\n",
    "fpath_scatter = fdir + 'results/scatter'\n",
    "\n",
    "sigma_1 = 3.0e-7\n",
    "epsilon = 1.0\n",
    "slack = 2.0 * epsilon * sigma_1\n",
    "instrument_type = 'orbitrap'\n",
    "\n",
    "mz_begin = 200\n",
    "mz_end = 1000"
   ]
  },
  {
   "cell_type": "code",
   "execution_count": 2,
   "metadata": {},
   "outputs": [
    {
     "name": "stderr",
     "output_type": "stream",
     "text": [
      "c:\\Users\\tvanheme\\Desktop\\test_msiwarp\\MSIWarp\\.venv\\lib\\site-packages\\pyimzml\\ontology\\ontology.py:92: UserWarning: Accession MS:1000563 found with incorrect name \"Thermo RAW file\". Updating name to \"Thermo RAW format\".\n",
      "  warn(\n",
      "c:\\Users\\tvanheme\\Desktop\\test_msiwarp\\MSIWarp\\.venv\\lib\\site-packages\\pyimzml\\ontology\\ontology.py:92: UserWarning: Accession MS:1000590 found with incorrect name \"contact organization\". Updating name to \"contact affiliation\".\n",
      "  warn(\n",
      "c:\\Users\\tvanheme\\Desktop\\test_msiwarp\\MSIWarp\\.venv\\lib\\site-packages\\pyimzml\\ontology\\ontology.py:92: UserWarning: Accession IMS:1000042 found with incorrect name \"max count of pixel x\". Updating name to \"max count of pixels x\".\n",
      "  warn(\n",
      "c:\\Users\\tvanheme\\Desktop\\test_msiwarp\\MSIWarp\\.venv\\lib\\site-packages\\pyimzml\\ontology\\ontology.py:92: UserWarning: Accession IMS:1000043 found with incorrect name \"max count of pixel y\". Updating name to \"max count of pixels y\".\n",
      "  warn(\n",
      "c:\\Users\\tvanheme\\Desktop\\test_msiwarp\\MSIWarp\\.venv\\lib\\site-packages\\pyimzml\\ontology\\ontology.py:92: UserWarning: Accession IMS:1000046 found with incorrect name \"pixel size x\". Updating name to \"pixel size (x)\".\n",
      "  warn(\n",
      "c:\\Users\\tvanheme\\Desktop\\test_msiwarp\\MSIWarp\\.venv\\lib\\site-packages\\pyimzml\\ontology\\ontology.py:92: UserWarning: Accession MS:1000639 found with incorrect name \"Thermo Exactive Orbitrap\". Updating name to \"LTQ Orbitrap XL ETD\".\n",
      "  warn(\n"
     ]
    }
   ],
   "source": [
    "spectra = []\n",
    "p = ImzMLParser(imzml_path)\n",
    "idxs_centroid = np.load(fdir + 'idxs_centroid.npy')\n",
    "\n",
    "for idx in idxs_centroid:\n",
    "    mzs, hs = p.getspectrum(idx)    \n",
    "    spectra.append(to_mx_peaks(mzs, hs,\n",
    "                               sigma_1, id = idx,\n",
    "                               instrument_type=instrument_type))\n",
    "    \n",
    "n_peaks = np.array([len(s) for s in spectra])\n",
    "tic = np.array([np.sum(to_height(s)) for s in spectra])"
   ]
  },
  {
   "cell_type": "code",
   "execution_count": 3,
   "metadata": {},
   "outputs": [
    {
     "name": "stdout",
     "output_type": "stream",
     "text": [
      "1058 peaks in reference spectrum\n"
     ]
    }
   ],
   "source": [
    "n_steps = 33\n",
    "n_peaks = 30\n",
    "max_n_nodes = 8\n",
    "\n",
    "params = mx.params_uniform(mx.Instrument.Orbitrap,\n",
    "                           n_steps,\n",
    "                           n_peaks,\n",
    "                           max_n_nodes,\n",
    "                           mz_begin,\n",
    "                           mz_end,\n",
    "                           slack)\n",
    "\n",
    "# --------- set reference spectrum ----------\n",
    "i_r = np.argmax(tic)\n",
    "s_ref = spectra[i_r]\n",
    "print(len(s_ref), \"peaks in reference spectrum\")"
   ]
  },
  {
   "cell_type": "code",
   "execution_count": 4,
   "metadata": {},
   "outputs": [
    {
     "name": "stdout",
     "output_type": "stream",
     "text": [
      "found optimal warpings in 343.38 seconds\n",
      "warped spectra in 14.78s\n"
     ]
    }
   ],
   "source": [
    "import time\n",
    "\n",
    "n_cores = 8\n",
    "\n",
    "t0 = time.time()\n",
    "warping_funcs = mx.find_optimal_warpings_uni(spectra, s_ref, params, epsilon, n_cores)\n",
    "t1 = time.time()\n",
    "print(\"found optimal warpings in {:0.2f} seconds\".format(t1 - t0))\n",
    "\n",
    "t2 = time.time()\n",
    "warped_spectra = [mx.warp_peaks_unique(s_i, r_i) for (s_i, r_i) in zip(spectra, warping_funcs)]\n",
    "t3 = time.time()\n",
    "print(\"warped spectra in {:0.2f}s\".format(t3 - t2))"
   ]
  },
  {
   "cell_type": "code",
   "execution_count": 5,
   "metadata": {},
   "outputs": [
    {
     "name": "stderr",
     "output_type": "stream",
     "text": [
      "c:\\Users\\tvanheme\\Desktop\\test_msiwarp\\MSIWarp\\.venv\\lib\\site-packages\\msiwarp\\util\\warp.py:133: RuntimeWarning: overflow encountered in scalar power\n",
      "  func = lambda x: x ** (3/2)\n"
     ]
    },
    {
     "name": "stdout",
     "output_type": "stream",
     "text": [
      "generating mean spectrum with 1042346 sampling points...\n",
      "generated mean spectrum\n"
     ]
    }
   ],
   "source": [
    "# ---------- mean spectrum ----------\n",
    "n_points = 2000000\n",
    "s_m = generate_mean_spectrum(warped_spectra, n_points, sigma_1,\n",
    "                             mz_begin, mz_end, tic, instrument_type)\n",
    "\n",
    "s_m_1000 = mx.peaks_top_n(s_m, 1000) # returns peak list sorted by intensity, not m/z\n",
    "s_r = sorted(s_m_1000, key=lambda peak: peak.mz)\n",
    "\n",
    "s_m_100 = mx.peaks_top_n(s_m, 100)\n",
    "mz_ref = np.sort(to_mz(s_m_100))"
   ]
  },
  {
   "cell_type": "code",
   "execution_count": 6,
   "metadata": {},
   "outputs": [
    {
     "name": "stdout",
     "output_type": "stream",
     "text": [
      "median mass dispersion raw: 0.6134\n",
      "median mass dispersion warped: 0.2883\n",
      "mean mass dispersion raw: 0.6428\n",
      "mean mass dispersion warped: 0.3083\n"
     ]
    }
   ],
   "source": [
    "# ---------- compute mass dispersions around mean spectrum ----------\n",
    "dispersion_raw = np.zeros(len(mz_ref))\n",
    "dispersion_warped = np.zeros(len(mz_ref))\n",
    "\n",
    "mass_tolerance = 4 # ppm\n",
    "    \n",
    "for i, mz_i in enumerate(mz_ref):\n",
    "    d = mass_tolerance * mz_i / 1e6 # -+ 350 ppm around reference mass\n",
    "    mz0 = mz_i - d\n",
    "    mz1 = mz_i + d\n",
    "    \n",
    "    ts_raw = mx.get_triplets_range(fpath_triplets_raw, mz0, mz1)\n",
    "    ts_warped = mx.get_triplets_range(fpath_triplets_warped, mz0, mz1)\n",
    "    \n",
    "    q = 0.0 # remove background signal\n",
    "    if len(ts_raw) > 0:\n",
    "        dispersion_raw[i] = dispersion_triplets(ts_raw,  q)\n",
    "    if len(ts_warped) > 0:  \n",
    "        dispersion_warped[i] = dispersion_triplets(ts_warped, q)\n",
    "\n",
    "\n",
    "d = {'mz': mz_ref,\n",
    "     'dispersion raw [ppm]': dispersion_raw,\n",
    "     'dispersion warped [ppm]': dispersion_warped}\n",
    "\n",
    "df = pd.DataFrame(d)\n",
    "df.round(4).to_csv(fpath_dispersion_csv, index=False)\n",
    "\n",
    "print('median mass dispersion raw: {:0.4f}'.format(np.median(dispersion_raw)))\n",
    "print('median mass dispersion warped: {:0.4f}'.format(np.median(dispersion_warped)))\n",
    "print('mean mass dispersion raw: {:0.4f}'.format(np.mean(dispersion_raw)))\n",
    "print('mean mass dispersion warped: {:0.4f}'.format(np.mean(dispersion_warped)))"
   ]
  },
  {
   "cell_type": "code",
   "execution_count": 7,
   "metadata": {},
   "outputs": [],
   "source": [
    "@nb.njit\n",
    "def binning(x_correct, x_wrong, values):\n",
    "    \n",
    "    index_min = np.argmin(np.abs(x_wrong - x_correct[0]))\n",
    "    if x_wrong[index_min] > x_correct[0]:\n",
    "        index_min -= 1\n",
    "        index_min = index_min if index_min > 0 else 0\n",
    "    index_max = np.argmin(np.abs(x_wrong - x_correct[-1]))\n",
    "    if x_wrong[index_max] < x_correct[-1]:\n",
    "        index_max += 1\n",
    "        index_max = index_max if index_max < x_wrong.shape[0] else x_wrong.shape[0]\n",
    "        \n",
    "    result = np.zeros_like(x_correct, dtype=values.dtype)\n",
    "    \n",
    "    values = values[index_min: index_max + 1]\n",
    "    x_wrong = x_wrong[index_min: index_max + 1]\n",
    "    \n",
    "    indices = np.searchsorted(x_correct, x_wrong, side='right') - 1\n",
    "    \n",
    "    idxs = indices < 0\n",
    "    if idxs.sum() > 0:\n",
    "        result[0] = np.dot(values[idxs], x_wrong[idxs] - x_correct[0]) / (x_correct[0] - x_correct[1])\n",
    "    \n",
    "    idxs = np.logical_and(0 <= indices, indices < x_correct.shape[0] - 1)\n",
    "    if idxs.sum() > 0:\n",
    "        temp = indices[idxs]\n",
    "        shifted = temp + 1\n",
    "        factor = np.divide(x_wrong[idxs] - x_correct[temp], x_correct[shifted] - x_correct[temp])\n",
    "        vals = values[idxs]\n",
    "        for i, index in enumerate(temp):\n",
    "            result[index] += vals[i] * (1 - factor[i])\n",
    "            result[index + 1] += vals[i] * factor[i]\n",
    "    \n",
    "    idxs = indices >= x_correct.shape[0] - 1\n",
    "    if idxs.sum() > 0:\n",
    "        temp = indices[idxs]\n",
    "        result[-1] += np.dot(values[idxs], np.divide(x_wrong[idxs] - x_correct[temp], x_correct[temp] - x_correct[temp - 1]))\n",
    "                \n",
    "    return result\n",
    "\n",
    "def interp(X, x, y):\n",
    "    f = make_interp_spline(x, y, k=1)\n",
    "    return f(X).astype(X.dtype)\n",
    "\n",
    "def perform_pwl_warping(mz_vector, data, warping_knots):\n",
    "    interpolated_mz = interp(mz_vector, np.array([w[0] for w in warping_knots]), np.array([w[0] + w[1] for w in warping_knots]))\n",
    "    return binning(mz_vector, interpolated_mz, data)\n",
    "\n",
    "def printf(x):\n",
    "    print(f'Average mass dispersion [ppm]: {np.format_float_positional(x[0], 2)}')\n",
    "    print(f'Median mass dispersion [ppm]: {np.format_float_positional(x[1], 2)}')\n",
    "    print(f'Average cosine similarity: {np.format_float_positional(x[2], 4)}')"
   ]
  },
  {
   "cell_type": "code",
   "execution_count": null,
   "metadata": {},
   "outputs": [
    {
     "name": "stdout",
     "output_type": "stream",
     "text": [
      "Average mass dispersion [ppm]: 0.85\n",
      "Median mass dispersion [ppm]: 0.65\n",
      "Average cosine similarity: 0.9103\n"
     ]
    },
    {
     "name": "stderr",
     "output_type": "stream",
     "text": [
      "100%|██████████| 18270/18270 [00:12<00:00, 1431.98it/s]\n"
     ]
    },
    {
     "name": "stdout",
     "output_type": "stream",
     "text": [
      "Average mass dispersion [ppm]: 0.52\n",
      "Median mass dispersion [ppm]: 0.33\n",
      "Average cosine similarity: 0.9127\n"
     ]
    }
   ],
   "source": [
    "# Apply warping functions to profile data and perform mass dispersion analysis\n",
    "file = np.load(imzml_path.replace(\"centroid\", \"profile\").replace(\".imzML\", \".npz\"))\n",
    "idxs_profile = np.load(fdir + 'idxs_profile.npy')\n",
    "maldi = file['data'][idxs_profile]\n",
    "mz_vector = file['axis']\n",
    "\n",
    "res = np.empty_like(maldi)\n",
    "\n",
    "with mp.Pool(processes=mp.cpu_count()) as pool:\n",
    "    \n",
    "    printf(get_mass_dispersion(maldi, mz_vector, pool=pool))\n",
    "    \n",
    "    for i in tqdm(range(maldi.shape[0])):\n",
    "        res[i] = perform_pwl_warping(mz_vector, maldi[i], warping_funcs[i])\n",
    "\n",
    "    printf(get_mass_dispersion(res, mz_vector, pool=pool))"
   ]
  }
 ],
 "metadata": {
  "kernelspec": {
   "display_name": ".venv",
   "language": "python",
   "name": "python3"
  },
  "language_info": {
   "codemirror_mode": {
    "name": "ipython",
    "version": 3
   },
   "file_extension": ".py",
   "mimetype": "text/x-python",
   "name": "python",
   "nbconvert_exporter": "python",
   "pygments_lexer": "ipython3",
   "version": "3.10.11"
  }
 },
 "nbformat": 4,
 "nbformat_minor": 4
}
