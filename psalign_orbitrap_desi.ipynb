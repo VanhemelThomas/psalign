{
 "cells": [
  {
   "cell_type": "code",
   "execution_count": null,
   "id": "ccfe3105",
   "metadata": {},
   "outputs": [],
   "source": [
    "import numpy as np\n",
    "import multiprocessing as mp\n",
    "import os\n",
    "\n",
    "from pyimzml.ImzMLParser import ImzMLParser\n",
    "\n",
    "from src.psalign.alignment import Alignment\n",
    "from src.psalign.imzml import convert_pyimzml, read_imzml, save_to_imzml\n",
    "\n",
    "peaks = 1000\n",
    "start_mz = 200\n",
    "end_mz = 1000\n",
    "nb_cores = mp.cpu_count() // 2\n",
    "\n",
    "nb_segments = 8\n",
    "window = 4\n",
    "factor = 1.25\n",
    "outlier_detection = True\n",
    "\n",
    "instrument = 'orbitrap'\n",
    "reference = None\n",
    "\n",
    "# Download file from https://www.omicsdi.org/dataset/metabolights_dataset/MTBLS289\n",
    "sample = 'A52 CT S3-profile'\n",
    "path = '<path_to_file>'\n"
   ]
  },
  {
   "cell_type": "code",
   "execution_count": 2,
   "id": "d7479300",
   "metadata": {},
   "outputs": [
    {
     "name": "stderr",
     "output_type": "stream",
     "text": [
      "c:\\Users\\tvanheme\\Desktop\\psalign\\.venv\\lib\\site-packages\\pyimzml\\ontology\\ontology.py:92: UserWarning: Accession MS:1000563 found with incorrect name \"Thermo RAW file\". Updating name to \"Thermo RAW format\".\n",
      "  warn(\n",
      "c:\\Users\\tvanheme\\Desktop\\psalign\\.venv\\lib\\site-packages\\pyimzml\\ontology\\ontology.py:92: UserWarning: Accession MS:1000590 found with incorrect name \"contact organization\". Updating name to \"contact affiliation\".\n",
      "  warn(\n",
      "c:\\Users\\tvanheme\\Desktop\\psalign\\.venv\\lib\\site-packages\\pyimzml\\ontology\\ontology.py:92: UserWarning: Accession IMS:1000042 found with incorrect name \"max count of pixel x\". Updating name to \"max count of pixels x\".\n",
      "  warn(\n",
      "c:\\Users\\tvanheme\\Desktop\\psalign\\.venv\\lib\\site-packages\\pyimzml\\ontology\\ontology.py:92: UserWarning: Accession IMS:1000043 found with incorrect name \"max count of pixel y\". Updating name to \"max count of pixels y\".\n",
      "  warn(\n",
      "c:\\Users\\tvanheme\\Desktop\\psalign\\.venv\\lib\\site-packages\\pyimzml\\ontology\\ontology.py:92: UserWarning: Accession IMS:1000046 found with incorrect name \"pixel size x\". Updating name to \"pixel size (x)\".\n",
      "  warn(\n",
      "c:\\Users\\tvanheme\\Desktop\\psalign\\.venv\\lib\\site-packages\\pyimzml\\ontology\\ontology.py:92: UserWarning: Accession MS:1000639 found with incorrect name \"Thermo Exactive Orbitrap\". Updating name to \"LTQ Orbitrap XL ETD\".\n",
      "  warn(\n"
     ]
    },
    {
     "name": "stdout",
     "output_type": "stream",
     "text": [
      "0\n"
     ]
    }
   ],
   "source": [
    "# The spectra do not correspond to the same pixels, so we need to create a mapping between the data of the two files (profile and centroid) based on the coordinates.\n",
    "p_centroid = ImzMLParser(f'{path}/{sample.replace(\"profile\", \"centroid\")}.imzML')\n",
    "p_profile = ImzMLParser(f'{path}/{sample}.imzML')\n",
    "\n",
    "p_centroid_coordinates = [p_centroid.get_physical_coordinates(i) for i in range(len(p_centroid.coordinates))]\n",
    "p_profile_coordinates = [p_profile.get_physical_coordinates(i) for i in range(len(p_profile.coordinates))]\n",
    "\n",
    "idxs_p_centroid = []\n",
    "for i, coor in enumerate(p_centroid_coordinates):\n",
    "    if coor in p_profile_coordinates:\n",
    "        idxs_p_centroid.append(i)\n",
    "\n",
    "idxs_p_profile = []\n",
    "for i, coor in enumerate(p_profile_coordinates):\n",
    "    if coor in p_centroid_coordinates:\n",
    "        idxs_p_profile.append(i)\n",
    "\n",
    "mapping = dict()\n",
    "for i in idxs_p_centroid:\n",
    "    for j in idxs_p_profile:\n",
    "        if p_centroid_coordinates[i] == p_profile_coordinates[j]:\n",
    "            mapping[i] = j\n",
    "            break\n",
    "    else:\n",
    "        print(\"This shouldn't happen.\")\n",
    "\n",
    "idxs_p_profile = [mapping[i] for i in idxs_p_centroid]\n",
    "\n",
    "# check\n",
    "count = 0\n",
    "for i, j in zip(idxs_p_centroid, idxs_p_profile):\n",
    "    coor, coor2 = p_centroid.get_physical_coordinates(i), p_profile.get_physical_coordinates(j)\n",
    "    if coor != coor2:\n",
    "        print(coor, coor2)\n",
    "        count += 1\n",
    "\n",
    "# This should be 0.\n",
    "print(count)\n",
    "\n",
    "np.save(f'{path}/idxs_profile.npy', np.array(idxs_p_profile))\n",
    "np.save(f'{path}/idxs_centroid.npy', np.array(idxs_p_centroid))"
   ]
  },
  {
   "cell_type": "code",
   "execution_count": 3,
   "id": "98864200",
   "metadata": {},
   "outputs": [],
   "source": [
    "if not os.path.exists(f'{path}/{sample}.npz'):\n",
    "    \n",
    "    convert_pyimzml(f'{path}/{sample}', low_mz=start_mz, high_mz=end_mz, dtype=np.float32, nb_of_peaks=peaks)"
   ]
  },
  {
   "cell_type": "code",
   "execution_count": 4,
   "id": "fbd93cb0",
   "metadata": {},
   "outputs": [],
   "source": [
    "file = np.load(f'{path}/{sample}.npz')\n",
    "idxs = np.load(f'{path}/idxs_profile.npy')\n",
    "data = file['data'][idxs]\n",
    "mz = file['axis']\n",
    "\n",
    "width = None\n",
    "distance = 10\n",
    "nb_peaks = 100"
   ]
  },
  {
   "cell_type": "code",
   "execution_count": 5,
   "id": "09bfcd6e",
   "metadata": {},
   "outputs": [
    {
     "name": "stdout",
     "output_type": "stream",
     "text": [
      "Mass dispersion before alignment:\n",
      "\n",
      "Mass dispersion [ppm]:\n",
      "\tAverage:\t\t0.85\n",
      "\tMedian:\t\t\t0.65\n",
      "Cosine similarity:\t\t0.9103\n",
      "\n",
      "Compiling Numba functions: finished in 1.62 seconds!        \n"
     ]
    },
    {
     "name": "stderr",
     "output_type": "stream",
     "text": [
      "100%|██████████| 18270/18270 [00:08<00:00, 2277.04it/s]\n"
     ]
    },
    {
     "name": "stdout",
     "output_type": "stream",
     "text": [
      "The data was warped in 8.39 seconds.\n",
      "Mass dispersion after alignment without optimization:\n",
      "\n",
      "Mass dispersion [ppm]:\n",
      "\tAverage:\t\t0.87\n",
      "\tMedian:\t\t\t0.67\n",
      "Cosine similarity:\t\t0.9103\n",
      "\n"
     ]
    }
   ],
   "source": [
    "alignment = Alignment(np.copy(data), mz, reference, nb_cores, instrument)\n",
    "alignment.limit_mz_range(start_mz, end_mz)\n",
    "\n",
    "print('Mass dispersion before alignment:')\n",
    "alignment.get_mass_dispersion(distance=distance, width=width, nb_of_peaks=nb_peaks)\n",
    "\n",
    "alignment.align(nb_segments, window, factor, outlier_detection)\n",
    "\n",
    "print('Mass dispersion after alignment without optimization:')\n",
    "alignment.get_mass_dispersion(distance=distance, width=width, nb_of_peaks=nb_peaks)\n",
    "\n",
    "del alignment"
   ]
  },
  {
   "cell_type": "code",
   "execution_count": 6,
   "id": "54bd39f4",
   "metadata": {},
   "outputs": [
    {
     "name": "stdout",
     "output_type": "stream",
     "text": [
      "Compiling Numba functions: finished in 1.79 seconds!        \n"
     ]
    },
    {
     "name": "stderr",
     "output_type": "stream",
     "text": [
      "100%|██████████| 18270/18270 [04:50<00:00, 62.84it/s]\n"
     ]
    },
    {
     "name": "stdout",
     "output_type": "stream",
     "text": [
      "The data was warped in 291.09 seconds.\n",
      "Mass dispersion after alignment with optimization:\n",
      "\n",
      "Mass dispersion [ppm]:\n",
      "\tAverage:\t\t0.60\n",
      "\tMedian:\t\t\t0.33\n",
      "Cosine similarity:\t\t0.913\n",
      "\n"
     ]
    },
    {
     "data": {
      "text/plain": [
       "(0.6049153460213311, 0.330727510565264, 0.9129888093236909)"
      ]
     },
     "execution_count": 6,
     "metadata": {},
     "output_type": "execute_result"
    }
   ],
   "source": [
    "alignment = Alignment(data, mz, reference, nb_cores, instrument)\n",
    "alignment.limit_mz_range(start_mz, end_mz)\n",
    "\n",
    "# only_opt=True means that only the optimization is performed, the nodes are placed based on where the largest peaks are after segmenting the spectra. This is chosen because the initial alignment does not improve the mass dispersion or similarity.\n",
    "alignment.align_optimization(nb_segments, window, factor, outlier_detection, delta=0.05, only_opt=True)\n",
    "\n",
    "print('Mass dispersion after alignment with optimization:')\n",
    "alignment.get_mass_dispersion(distance=distance, width=width, nb_of_peaks=nb_peaks)"
   ]
  },
  {
   "cell_type": "markdown",
   "id": "de0add93",
   "metadata": {},
   "source": [
    "Below you can see how to read and write to an .imzML and .ibd file before and after alignment."
   ]
  },
  {
   "cell_type": "code",
   "execution_count": 7,
   "id": "dc0ff88b",
   "metadata": {},
   "outputs": [
    {
     "name": "stdout",
     "output_type": "stream",
     "text": [
      "Compiling Numba functions: finished in 2.11 seconds!        \n"
     ]
    },
    {
     "name": "stderr",
     "output_type": "stream",
     "text": [
      "100%|██████████| 18270/18270 [04:48<00:00, 63.32it/s]\n"
     ]
    },
    {
     "name": "stdout",
     "output_type": "stream",
     "text": [
      "The warping functions were computed in 288.92 seconds.\n"
     ]
    },
    {
     "name": "stderr",
     "output_type": "stream",
     "text": [
      "100%|██████████| 18270/18270 [00:00<00:00, 70917.46it/s]\n"
     ]
    },
    {
     "name": "stdout",
     "output_type": "stream",
     "text": [
      "The m/z vectors were warped in 0.26 seconds.\n"
     ]
    }
   ],
   "source": [
    "file = np.load(f'{path}/{sample}.npz')\n",
    "idxs = np.load(f'{path}/idxs_profile.npy')\n",
    "data = file['data'][idxs]\n",
    "mz = file['axis']\n",
    "\n",
    "alignment = Alignment(data, mz, reference, nb_cores, instrument)\n",
    "alignment.limit_mz_range(start_mz, end_mz)\n",
    "del file, data, mz\n",
    "\n",
    "x, y = alignment.compute_warping_functions_optimization(nb_segments, window, factor, outlier_detection, delta=0.05, only_opt=True)\n",
    "\n",
    "# Apply the warping functions to the data with matching coordinates between centroid and profile file.\n",
    "data, mzs, locations = read_imzml(f'{path}/{sample.replace(\"profile\", \"centroid\")}.imzML')\n",
    "idxs_p_centroid = np.load(f'{path}/idxs_centroid.npy')\n",
    "data = [data[i] for i in idxs_p_centroid]\n",
    "mzs = [mzs[i] for i in idxs_p_centroid]\n",
    "locations = [locations[i] for i in idxs_p_centroid]\n",
    "\n",
    "mzs = alignment.apply_warping_functions_to_mz(mzs, x, y)\n",
    "\n",
    "save_to_imzml(f'{path}/{sample.replace(\"profile\", \"aligned_centroid\")}.imzML', data, mzs, locations, dtype=np.float64)"
   ]
  }
 ],
 "metadata": {
  "kernelspec": {
   "display_name": ".venv",
   "language": "python",
   "name": "python3"
  },
  "language_info": {
   "codemirror_mode": {
    "name": "ipython",
    "version": 3
   },
   "file_extension": ".py",
   "mimetype": "text/x-python",
   "name": "python",
   "nbconvert_exporter": "python",
   "pygments_lexer": "ipython3",
   "version": "3.10.11"
  }
 },
 "nbformat": 4,
 "nbformat_minor": 5
}
