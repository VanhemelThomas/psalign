{
 "cells": [
  {
   "cell_type": "code",
   "execution_count": null,
   "id": "40ae7daf",
   "metadata": {},
   "outputs": [],
   "source": [
    "\n",
    "import numpy as np\n",
    "import multiprocessing as mp\n",
    "import os\n",
    "\n",
    "from src.psalign.alignment import Alignment\n",
    "from src.psalign.imzml import convert_pyimzml\n",
    "from src.psalign.mass_dispersion import compute_mass_dispersion\n",
    "\n",
    "start_mz = None\n",
    "end_mz = None\n",
    "nb_cores = mp.cpu_count() // 2\n",
    "\n",
    "instrument = 'orbitrap'\n",
    "reference = None\n",
    "\n",
    "nb_segments = 3\n",
    "window = 4\n",
    "factor = 1.25\n",
    "outlier_detection = False\n",
    "\n",
    "# Download .imzML and .ibd file from https://www.ebi.ac.uk/pride/archive/projects/PXD016146\n",
    "path = '<path_to_your_data>\\\\5mixes_onratliver_50micron.imzML'"
   ]
  },
  {
   "cell_type": "code",
   "execution_count": 2,
   "id": "bf17ca8c",
   "metadata": {},
   "outputs": [],
   "source": [
    "path, sample = os.path.split(path)\n",
    "    \n",
    "if not os.path.exists(f'{path}/{sample.split(\".\")[0]}.npz'):\n",
    "    convert_pyimzml(f'{path}/{sample}', low_mz=start_mz, high_mz=end_mz, dtype=np.float32, distance=10, nb_of_peaks=1000)"
   ]
  },
  {
   "cell_type": "code",
   "execution_count": 3,
   "id": "f3b9f20f",
   "metadata": {},
   "outputs": [],
   "source": [
    "width = None\n",
    "distance = 10\n",
    "nb_peaks = 100\n",
    "\n",
    "file = np.load(f'{path}/{sample.split(\".\")[0]}.npz')\n",
    "data = file['data']\n",
    "mz = file['axis']"
   ]
  },
  {
   "cell_type": "code",
   "execution_count": 4,
   "id": "c97a22c8",
   "metadata": {},
   "outputs": [
    {
     "name": "stdout",
     "output_type": "stream",
     "text": [
      "Mass dispersion before alignment:\n",
      "\n",
      "Mass dispersion [ppm]:\n",
      "\tAverage:\t\t0.7\n",
      "\tMedian:\t\t\t0.65\n",
      "\tCosine similarity:\t0.9897\n",
      "\n"
     ]
    }
   ],
   "source": [
    "from concurrent.futures import ProcessPoolExecutor\n",
    "with ProcessPoolExecutor(max_workers=mp.cpu_count() // 2) as executor:\n",
    "    mass_dispersion = compute_mass_dispersion(np.copy(data), mz, distance, nb_peaks, width, executor=executor)\n",
    "print('Mass dispersion before alignment:')\n",
    "print(f'\\nMass dispersion [ppm]:\\n\\tAverage:\\t\\t{np.format_float_positional(mass_dispersion[0], precision=2)}\\n\\tMedian:\\t\\t\\t{np.format_float_positional(mass_dispersion[1], precision=2)}\\n\\tCosine similarity:\\t{np.format_float_positional(mass_dispersion[2], precision=4)}\\n')\n",
    "\n",
    "# Applying sqrt transform can broaden the peaks which can be beneficial for alignment\n",
    "data = np.sqrt(data)"
   ]
  },
  {
   "cell_type": "code",
   "execution_count": 5,
   "id": "ec321634",
   "metadata": {},
   "outputs": [
    {
     "name": "stdout",
     "output_type": "stream",
     "text": [
      "Compiling Numba functions: finished in 2.24 seconds!        \n"
     ]
    },
    {
     "name": "stderr",
     "output_type": "stream",
     "text": [
      "100%|██████████| 23823/23823 [00:09<00:00, 2599.85it/s]\n"
     ]
    },
    {
     "name": "stdout",
     "output_type": "stream",
     "text": [
      "The warping functions were computed in 9.52 seconds.\n"
     ]
    },
    {
     "name": "stderr",
     "output_type": "stream",
     "text": [
      "100%|██████████| 23823/23823 [00:10<00:00, 2262.77it/s]\n"
     ]
    },
    {
     "name": "stdout",
     "output_type": "stream",
     "text": [
      "The data was warped in 10.89 seconds.\n",
      "Mass dispersion after alignment without optimization:\n",
      "\n",
      "Mass dispersion [ppm]:\n",
      "\tAverage:\t\t0.65\n",
      "\tMedian:\t\t\t0.61\n",
      "\tCosine similarity:\t0.9924\n",
      "\n"
     ]
    }
   ],
   "source": [
    "# Perform coarse alignment with square root trick\n",
    "alignment = Alignment(data, mz, reference, nb_cores, instrument)\n",
    "alignment.limit_mz_range(start_mz, end_mz)\n",
    "\n",
    "x, y = alignment.compute_warping_functions(nb_segments, window, factor, outlier_detection)\n",
    "\n",
    "# Apply transform to non sqrt data\n",
    "alignment.data = np.load(f'{path}/{sample.split(\".\")[0]}.npz')['data']\n",
    "\n",
    "alignment.apply_warping_functions_to_data(x, y)\n",
    "\n",
    "print('Mass dispersion after alignment without optimization:')\n",
    "alignment.get_mass_dispersion(distance=distance, width=width, nb_of_peaks=nb_peaks)\n",
    "\n",
    "del alignment"
   ]
  },
  {
   "cell_type": "code",
   "execution_count": 6,
   "id": "979ce2ef",
   "metadata": {},
   "outputs": [
    {
     "name": "stdout",
     "output_type": "stream",
     "text": [
      "Compiling Numba functions: finished in 1.97 seconds!        \n"
     ]
    },
    {
     "name": "stderr",
     "output_type": "stream",
     "text": [
      "100%|██████████| 23823/23823 [02:24<00:00, 164.46it/s]\n"
     ]
    },
    {
     "name": "stdout",
     "output_type": "stream",
     "text": [
      "The warping functions were computed in 145.25 seconds.\n"
     ]
    },
    {
     "name": "stderr",
     "output_type": "stream",
     "text": [
      "100%|██████████| 23823/23823 [00:10<00:00, 2301.74it/s]\n"
     ]
    },
    {
     "name": "stdout",
     "output_type": "stream",
     "text": [
      "The data was warped in 10.72 seconds.\n",
      "Mass dispersion after alignment with optimization:\n",
      "\n",
      "Mass dispersion [ppm]:\n",
      "\tAverage:\t\t0.3\n",
      "\tMedian:\t\t\t0.24\n",
      "\tCosine similarity:\t0.9968\n",
      "\n"
     ]
    }
   ],
   "source": [
    "# Perform alignment with square root trick\n",
    "alignment = Alignment(data, mz, reference, nb_cores, instrument)\n",
    "alignment.limit_mz_range(start_mz, end_mz)\n",
    "\n",
    "x, y = alignment.compute_warping_functions_optimization(nb_segments, window, factor, outlier_detection, delta=0.05, only_opt=True)\n",
    "\n",
    "# Apply transform to non sqrt data\n",
    "alignment.data = np.load(f'{path}/{sample.split(\".\")[0]}.npz')['data']\n",
    "\n",
    "alignment.apply_warping_functions_to_data(x, y)\n",
    "\n",
    "print('Mass dispersion after alignment with optimization:')\n",
    "alignment.get_mass_dispersion(distance=distance, width=width, nb_of_peaks=nb_peaks)\n",
    "\n",
    "del alignment"
   ]
  },
  {
   "cell_type": "code",
   "execution_count": 7,
   "id": "173b3162",
   "metadata": {},
   "outputs": [
    {
     "name": "stdout",
     "output_type": "stream",
     "text": [
      "Compiling Numba functions: finished in 2.05 seconds!        \n"
     ]
    },
    {
     "name": "stderr",
     "output_type": "stream",
     "text": [
      "100%|██████████| 23823/23823 [02:33<00:00, 154.97it/s]\n"
     ]
    },
    {
     "name": "stdout",
     "output_type": "stream",
     "text": [
      "The warping functions were computed in 154.11 seconds.\n"
     ]
    },
    {
     "name": "stderr",
     "output_type": "stream",
     "text": [
      "100%|██████████| 23823/23823 [00:10<00:00, 2285.51it/s]\n"
     ]
    },
    {
     "name": "stdout",
     "output_type": "stream",
     "text": [
      "The data was warped in 10.78 seconds.\n",
      "Mass dispersion after alignment with optimization:\n",
      "\n",
      "Mass dispersion [ppm]:\n",
      "\tAverage:\t\t0.46\n",
      "\tMedian:\t\t\t0.42\n",
      "\tCosine similarity:\t0.9968\n",
      "\n"
     ]
    }
   ],
   "source": [
    "# Perform alignment without square root trick\n",
    "alignment = Alignment(np.load(f'{path}/{sample.split(\".\")[0]}.npz')['data'], mz, reference, nb_cores, instrument)\n",
    "alignment.limit_mz_range(start_mz, end_mz)\n",
    "\n",
    "x, y = alignment.compute_warping_functions_optimization(nb_segments, window, factor, outlier_detection, delta=0.05, only_opt=True)\n",
    "\n",
    "alignment.data = np.load(f'{path}/{sample.split(\".\")[0]}.npz')['data']\n",
    "\n",
    "alignment.apply_warping_functions_to_data(x, y)\n",
    "\n",
    "print('Mass dispersion after alignment with optimization:')\n",
    "alignment.get_mass_dispersion(distance=distance, width=width, nb_of_peaks=nb_peaks)\n",
    "\n",
    "del alignment"
   ]
  },
  {
   "cell_type": "markdown",
   "id": "b6c53e3b",
   "metadata": {},
   "source": [
    "In this case the square root trick helps the algorithm to achieve better alignment performance!"
   ]
  }
 ],
 "metadata": {
  "kernelspec": {
   "display_name": ".venv",
   "language": "python",
   "name": "python3"
  },
  "language_info": {
   "codemirror_mode": {
    "name": "ipython",
    "version": 3
   },
   "file_extension": ".py",
   "mimetype": "text/x-python",
   "name": "python",
   "nbconvert_exporter": "python",
   "pygments_lexer": "ipython3",
   "version": "3.10.11"
  }
 },
 "nbformat": 4,
 "nbformat_minor": 5
}
