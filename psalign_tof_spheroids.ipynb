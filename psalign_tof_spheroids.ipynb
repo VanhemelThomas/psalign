{
 "cells": [
  {
   "cell_type": "code",
   "execution_count": null,
   "id": "dc0184a1",
   "metadata": {},
   "outputs": [],
   "source": [
    "import numpy as np\n",
    "import multiprocessing as mp\n",
    "import os\n",
    "\n",
    "from src.psalign.alignment import Alignment\n",
    "from psalign.imzml import convert_pyimzml\n",
    "\n",
    "# Download file from https://www.ebi.ac.uk/pride/archive/projects/PXD013069\n",
    "path = '<path_to_file>/drugtreatedspheroids-nonormalization.imzML'\n",
    "\n",
    "start_mz = 800\n",
    "end_mz = 4500"
   ]
  },
  {
   "cell_type": "code",
   "execution_count": 2,
   "id": "a4b2ad61",
   "metadata": {},
   "outputs": [],
   "source": [
    "path, sample = os.path.split(path)\n",
    "    \n",
    "if not os.path.exists(f'{path}/{sample.split(\".\")[0]}.npz'):\n",
    "    \n",
    "    convert_pyimzml(f'{path}/{sample}', low_mz=start_mz, high_mz=end_mz, dtype=np.float32)"
   ]
  },
  {
   "cell_type": "code",
   "execution_count": 3,
   "id": "b89c1aa6",
   "metadata": {},
   "outputs": [],
   "source": [
    "nb_cores = mp.cpu_count() // 2\n",
    "\n",
    "nb_of_peaks = 50\n",
    "\n",
    "nb_segments = [3, 5]\n",
    "window = [100, 200, 500, 1000, 2000]\n",
    "factor = [1.01, 1.02, 1.05, 1.1, 1.2, 1.5, 2]\n",
    "\n",
    "instrument = 'tof'\n",
    "reference = None"
   ]
  },
  {
   "cell_type": "code",
   "execution_count": 4,
   "id": "47b3b3af",
   "metadata": {},
   "outputs": [
    {
     "name": "stdout",
     "output_type": "stream",
     "text": [
      "Best parameters:\n",
      "\tNumber of segments:\t5\n",
      "\tFactor:\t\t\t1.01\n",
      "\tWindow:\t\t\t1000\n",
      "\tOutlier detection:\tTrue\n"
     ]
    }
   ],
   "source": [
    "file = np.load(f'{path}/{sample.split(\".\")[0]}.npz')\n",
    "data = file['data']\n",
    "mz = file['axis']\n",
    "\n",
    "alignment = Alignment(np.copy(data), mz, reference, nb_cores, instrument)\n",
    "alignment.limit_mz_range(start_mz, end_mz)\n",
    "\n",
    "nb_segments, window, factor, outlier_detection = alignment.get_best_params(nb_segments, window, factor, nb_of_spectra=100, metric=0, verbose=False)\n",
    "\n",
    "print(f'Best parameters:\\n\\tNumber of segments:\\t{nb_segments}\\n\\tFactor:\\t\\t\\t{factor}\\n\\tWindow:\\t\\t\\t{window}\\n\\tOutlier detection:\\t{outlier_detection}')"
   ]
  },
  {
   "cell_type": "code",
   "execution_count": 5,
   "id": "1a03c4e4",
   "metadata": {},
   "outputs": [
    {
     "name": "stdout",
     "output_type": "stream",
     "text": [
      "\n",
      "Mass dispersion [ppm]:\n",
      "\tAverage:\t\t19.53\n",
      "\tMedian:\t\t\t19.02\n",
      "Cosine similarity:\t\t0.6532\n",
      "\n",
      "Compiling Numba functions: finished in 1.81 seconds!        \n"
     ]
    },
    {
     "name": "stderr",
     "output_type": "stream",
     "text": [
      "100%|██████████| 1201/1201 [00:04<00:00, 264.67it/s]\n"
     ]
    },
    {
     "name": "stdout",
     "output_type": "stream",
     "text": [
      "The data was warped in 4.92 seconds.\n",
      "Mass dispersion after alignment without optimization:\n",
      "\n",
      "Mass dispersion [ppm]:\n",
      "\tAverage:\t\t11.67\n",
      "\tMedian:\t\t\t11.12\n",
      "Cosine similarity:\t\t0.7972\n",
      "\n",
      "Compiling Numba functions: finished in 2.1 seconds!        \n"
     ]
    },
    {
     "name": "stderr",
     "output_type": "stream",
     "text": [
      "100%|██████████| 1201/1201 [01:20<00:00, 14.83it/s]\n"
     ]
    },
    {
     "name": "stdout",
     "output_type": "stream",
     "text": [
      "The data was warped in 81.38 seconds.\n",
      "Mass dispersion after alignment with optimization:\n",
      "\n",
      "Mass dispersion [ppm]:\n",
      "\tAverage:\t\t11.16\n",
      "\tMedian:\t\t\t10.54\n",
      "Cosine similarity:\t\t0.8079\n",
      "\n"
     ]
    },
    {
     "data": {
      "text/plain": [
       "(11.155086, 10.5391245, 0.80785286)"
      ]
     },
     "execution_count": 5,
     "metadata": {},
     "output_type": "execute_result"
    }
   ],
   "source": [
    "alignment.get_mass_dispersion(nb_of_peaks=nb_of_peaks)\n",
    "alignment.align(nb_segments, window, factor, outlier_detection)\n",
    "print('Mass dispersion after alignment without optimization:')\n",
    "alignment.get_mass_dispersion(nb_of_peaks=nb_of_peaks)\n",
    "\n",
    "del alignment\n",
    "\n",
    "alignment = Alignment(data, mz, reference, nb_cores, instrument)\n",
    "alignment.limit_mz_range(start_mz, end_mz)\n",
    "\n",
    "alignment.align_optimization(nb_segments, window, factor, outlier_detection)\n",
    "print('Mass dispersion after alignment with optimization:')\n",
    "alignment.get_mass_dispersion(nb_of_peaks=nb_of_peaks)"
   ]
  }
 ],
 "metadata": {
  "kernelspec": {
   "display_name": ".venv",
   "language": "python",
   "name": "python3"
  },
  "language_info": {
   "codemirror_mode": {
    "name": "ipython",
    "version": 3
   },
   "file_extension": ".py",
   "mimetype": "text/x-python",
   "name": "python",
   "nbconvert_exporter": "python",
   "pygments_lexer": "ipython3",
   "version": "3.10.11"
  }
 },
 "nbformat": 4,
 "nbformat_minor": 5
}
